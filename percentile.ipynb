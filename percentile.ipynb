{
  "nbformat": 4,
  "nbformat_minor": 0,
  "metadata": {
    "colab": {
      "provenance": [],
      "authorship_tag": "ABX9TyONURpMpNtfbsr2U3nq2cm4",
      "include_colab_link": true
    },
    "kernelspec": {
      "name": "python3",
      "display_name": "Python 3"
    },
    "language_info": {
      "name": "python"
    }
  },
  "cells": [
    {
      "cell_type": "markdown",
      "metadata": {
        "id": "view-in-github",
        "colab_type": "text"
      },
      "source": [
        "<a href=\"https://colab.research.google.com/github/kiketracks40/Machine-Learning-Edgard/blob/master/percentile.ipynb\" target=\"_parent\"><img src=\"https://colab.research.google.com/assets/colab-badge.svg\" alt=\"Open In Colab\"/></a>"
      ]
    },
    {
      "cell_type": "code",
      "execution_count": 2,
      "metadata": {
        "id": "PvWClfWUKGxy",
        "colab": {
          "base_uri": "https://localhost:8080/"
        },
        "outputId": "595652ec-0f1b-453a-d6c8-bb2d22a9256f"
      },
      "outputs": [
        {
          "output_type": "stream",
          "name": "stdout",
          "text": [
            "61.0\n"
          ]
        }
      ],
      "source": [
        "import numpy\n",
        "\n",
        "ages = [5,31,43,48,50,41,7,11,15,39,80,82,32,2,8,6,25,36,27,61,31]\n",
        "\n",
        "x = numpy.percentile(ages, 90)\n",
        "\n",
        "print(x)\n",
        "\n",
        "\n",
        "\n",
        "\n"
      ]
    }
  ]
}