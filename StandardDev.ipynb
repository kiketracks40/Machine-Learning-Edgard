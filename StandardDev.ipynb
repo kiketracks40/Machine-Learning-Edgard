{
  "nbformat": 4,
  "nbformat_minor": 0,
  "metadata": {
    "colab": {
      "provenance": [],
      "authorship_tag": "ABX9TyONKJi0/ZbgCDTzj4PgNgBq",
      "include_colab_link": true
    },
    "kernelspec": {
      "name": "python3",
      "display_name": "Python 3"
    },
    "language_info": {
      "name": "python"
    }
  },
  "cells": [
    {
      "cell_type": "markdown",
      "metadata": {
        "id": "view-in-github",
        "colab_type": "text"
      },
      "source": [
        "<a href=\"https://colab.research.google.com/github/kiketracks40/Machine-Learning-Edgard/blob/master/StandardDev.ipynb\" target=\"_parent\"><img src=\"https://colab.research.google.com/assets/colab-badge.svg\" alt=\"Open In Colab\"/></a>"
      ]
    },
    {
      "cell_type": "code",
      "execution_count": 2,
      "metadata": {
        "colab": {
          "base_uri": "https://localhost:8080/"
        },
        "id": "14cLYNQ79CQY",
        "outputId": "d16577c0-978c-4e20-fa1c-82476cd3babd"
      },
      "outputs": [
        {
          "output_type": "stream",
          "name": "stdout",
          "text": [
            "37.84501153334721\n"
          ]
        }
      ],
      "source": [
        "import numpy\n",
        "\n",
        "speed = [32,111,138,28,59,77,97 ]\n",
        "\n",
        "x = numpy.std(speed)\n",
        "\n",
        "print(x)\n",
        "\n",
        "\n",
        "\n",
        "\n"
      ]
    }
  ]
}